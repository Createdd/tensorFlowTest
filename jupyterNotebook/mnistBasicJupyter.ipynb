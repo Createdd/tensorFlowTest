{
 "cells": [
  {
   "cell_type": "code",
   "execution_count": 1,
   "metadata": {},
   "outputs": [
    {
     "name": "stdout",
     "output_type": "stream",
     "text": [
      "Extracting MNIST_data/train-images-idx3-ubyte.gz\n",
      "Extracting MNIST_data/train-labels-idx1-ubyte.gz\n",
      "Extracting MNIST_data/t10k-images-idx3-ubyte.gz\n",
      "Extracting MNIST_data/t10k-labels-idx1-ubyte.gz\n",
      "Test Accuracy: 90.71000218391418%\n"
     ]
    }
   ],
   "source": [
    "import tensorflow as tf\n",
    "from tensorflow.examples.tutorials.mnist import input_data\n",
    "\n",
    "\n",
    "# Only log errors (to prevent unnecessary cluttering of the console)\n",
    "tf.logging.set_verbosity(tf.logging.ERROR)\n",
    "\n",
    "logpath = \"./tfb_logs/\"\n",
    "\n",
    "# We use the TF helper function to pull down the data from the MNIST site\n",
    "mnist = input_data.read_data_sets(\"MNIST_data/\", one_hot=True)\n",
    "\n",
    "# x is the placeholder for the 28 x 28 image data (the input)\n",
    "# y_ is a 10 element vector, containing the predicted probability of each digit (0-9) class\n",
    "# Define the weights and balances (always keep the dimensions in mind)\n",
    "x = tf.placeholder(tf.float32, shape=[None, 784], name=\"x_placeholder\")\n",
    "y_ = tf.placeholder(tf.float32, shape=[None, 10], name=\"y_placeholder\")\n",
    "\n",
    "W = tf.Variable(tf.zeros([784, 10]), name=\"weights_variable\")\n",
    "b = tf.Variable(tf.zeros([10]), name=\"bias_variable\")\n",
    "\n",
    "# Define the activation function = the real y. Softmax suits well for classification\n",
    "y = tf.nn.softmax(tf.matmul(x, W) + b, name=\"softmaxActivation\")\n",
    "\n",
    "# Loss is defined as cross entropy between the prediction and the real value\n",
    "# Each training step in gradient descent we want to minimize the loss\n",
    "loss = tf.reduce_mean(\n",
    "    tf.nn.softmax_cross_entropy_with_logits_v2(labels=y_, logits=y, name=\"lossFunction\")\n",
    ")\n",
    "train_step = tf.train.GradientDescentOptimizer(0.5).minimize(loss, name=\"gradDescent\")\n",
    "\n",
    "# Initialize all variables\n",
    "# Create an interactive session that can span multiple code blocks.\n",
    "# Perform the initialization which is only the initialization of all global variables\n",
    "init = tf.global_variables_initializer()\n",
    "sess = tf.InteractiveSession()\n",
    "sess.run(init)\n",
    "\n",
    "\n",
    "# Perform 1000 training steps\n",
    "# Feed the next batch and run the training\n",
    "for i in range(1000):\n",
    "    batch_xs, batch_ys = mnist.train.next_batch(100)\n",
    "    sess.run(train_step, feed_dict={x: batch_xs, y_: batch_ys})\n",
    "\n",
    "# Evaluate the accuracy of the model\n",
    "correct_prediction = tf.equal(tf.argmax(y, 1), tf.argmax(y_, 1))\n",
    "# print(correct_prediction.eval())\n",
    "\n",
    "accuracy = tf.reduce_mean(tf.cast(correct_prediction, tf.float32))\n",
    "test_accuracy = sess.run(\n",
    "    accuracy, feed_dict={x: mnist.test.images, y_: mnist.test.labels}\n",
    ")\n",
    "print(\"Test Accuracy: {0}%\".format(test_accuracy * 100.0))\n",
    "\n",
    "sess.close()\n",
    "\n",
    "# TensorBoard - Write the default graph out so we can view it's structure\n",
    "tbWriter = tf.summary.FileWriter(logpath, sess.graph)"
   ]
  },
  {
   "cell_type": "code",
   "execution_count": null,
   "metadata": {},
   "outputs": [],
   "source": []
  },
  {
   "cell_type": "code",
   "execution_count": null,
   "metadata": {},
   "outputs": [],
   "source": []
  },
  {
   "cell_type": "code",
   "execution_count": null,
   "metadata": {},
   "outputs": [],
   "source": []
  }
 ],
 "metadata": {
  "kernelspec": {
   "display_name": "tensorFlowTest",
   "language": "python",
   "name": "tensorflowtest"
  },
  "language_info": {
   "codemirror_mode": {
    "name": "ipython",
    "version": 3
   },
   "file_extension": ".py",
   "mimetype": "text/x-python",
   "name": "python",
   "nbconvert_exporter": "python",
   "pygments_lexer": "ipython3",
   "version": "3.6.5"
  }
 },
 "nbformat": 4,
 "nbformat_minor": 2
}
